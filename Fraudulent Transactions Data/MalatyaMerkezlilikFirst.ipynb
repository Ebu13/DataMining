{
 "cells": [
  {
   "cell_type": "code",
   "execution_count": 1,
   "id": "ada42bae-d573-4a99-af04-b59c8331cc40",
   "metadata": {},
   "outputs": [],
   "source": [
    "import pandas as pd\n",
    "import numpy as np\n",
    "import matplotlib.pyplot as plt\n",
    "import seaborn as sns\n",
    "from sklearn.model_selection import train_test_split\n",
    "from sklearn.ensemble import RandomForestClassifier\n",
    "from sklearn.metrics import accuracy_score, precision_score, recall_score, f1_score, classification_report\n",
    "import networkx as nx\n"
   ]
  },
  {
   "cell_type": "code",
   "execution_count": 2,
   "id": "86c43a66-0c24-400e-bc51-2c1359e6fa70",
   "metadata": {},
   "outputs": [
    {
     "name": "stdout",
     "output_type": "stream",
     "text": [
      "Veri seti boyutu: (6362620, 9)\n",
      "       type    amount     nameOrig  oldbalanceOrg  newbalanceOrig  \\\n",
      "0   PAYMENT   9839.64  C1231006815       170136.0       160296.36   \n",
      "1   PAYMENT   1864.28  C1666544295        21249.0        19384.72   \n",
      "2  TRANSFER    181.00  C1305486145          181.0            0.00   \n",
      "3  CASH_OUT    181.00   C840083671          181.0            0.00   \n",
      "4   PAYMENT  11668.14  C2048537720        41554.0        29885.86   \n",
      "\n",
      "      nameDest  oldbalanceDest  newbalanceDest  isFraud  \n",
      "0  M1979787155             0.0             0.0        0  \n",
      "1  M2044282225             0.0             0.0        0  \n",
      "2   C553264065             0.0             0.0        1  \n",
      "3    C38997010         21182.0             0.0        1  \n",
      "4  M1230701703             0.0             0.0        0  \n",
      "Eksik değerler:\n",
      " type              0\n",
      "amount            0\n",
      "nameOrig          0\n",
      "oldbalanceOrg     0\n",
      "newbalanceOrig    0\n",
      "nameDest          0\n",
      "oldbalanceDest    0\n",
      "newbalanceDest    0\n",
      "isFraud           0\n",
      "dtype: int64\n"
     ]
    }
   ],
   "source": [
    "# 1. Veri Yükleme ve Genel Keşif\n",
    "file_path = 'Fraud.csv'\n",
    "data = pd.read_csv(file_path, usecols=['nameOrig', 'nameDest', 'amount', 'oldbalanceOrg', 'newbalanceOrig', 'oldbalanceDest', 'newbalanceDest', 'isFraud', 'type'])\n",
    "\n",
    "# Gerekli sütunları kontrol et ve veri seti boyutunu yazdır\n",
    "print(\"Veri seti boyutu:\", data.shape)\n",
    "print(data.head())\n",
    "\n",
    "# Eksik değerleri kontrol et\n",
    "print(\"Eksik değerler:\\n\", data.isnull().sum())\n",
    "\n"
   ]
  },
  {
   "cell_type": "code",
   "execution_count": 3,
   "id": "400914f0-0b94-4040-8ffc-1c9384d9364f",
   "metadata": {},
   "outputs": [],
   "source": [
    "# 2. Veri Setini Eğitim ve Test Olarak Böl\n",
    "train_data, test_data = train_test_split(data, test_size=0.2, random_state=42)\n"
   ]
  },
  {
   "cell_type": "code",
   "execution_count": 4,
   "id": "54163630-d6ab-4b44-b883-a51e88ef2a07",
   "metadata": {},
   "outputs": [],
   "source": [
    "# 3. Grafik Tabanlı Analiz (Bellek Tüketimini Azaltarak)\n",
    "# Graf oluşturma ve merkezlilik değerlerini parçalara bölerek hesaplama\n",
    "def calculate_malatya_centrality(graph):\n",
    "    centrality = {}\n",
    "    for node in graph.nodes():\n",
    "        neighbors = list(graph.neighbors(node))\n",
    "        if len(neighbors) == 0:\n",
    "            centrality[node] = 0\n",
    "        else:\n",
    "            degree = graph.degree(node)\n",
    "            centrality[node] = sum(degree / graph.degree(neighbor) for neighbor in neighbors)\n",
    "    return centrality\n",
    "\n",
    "def build_graph_in_chunks(data_chunk):\n",
    "    graph = nx.DiGraph()\n",
    "    for _, row in data_chunk.iterrows():\n",
    "        if row['amount'] > 0:\n",
    "            graph.add_edge(row['nameOrig'], row['nameDest'], amount=row['amount'])\n",
    "    return graph\n",
    "\n"
   ]
  },
  {
   "cell_type": "code",
   "execution_count": 5,
   "id": "c3237fc2-ba79-489f-833d-c480b579fce6",
   "metadata": {},
   "outputs": [],
   "source": [
    "# Eğitim verisini parçalara ayırarak grafa dönüştürme\n",
    "chunk_size = 10000  # Parça boyutunu belirle\n",
    "graph = nx.DiGraph()\n",
    "\n",
    "for i in range(0, len(train_data), chunk_size):\n",
    "    chunk = train_data.iloc[i:i + chunk_size]\n",
    "    graph_chunk = build_graph_in_chunks(chunk)\n",
    "    graph.add_edges_from(graph_chunk.edges(data=True))\n",
    "\n",
    "# Malatya merkezlilik hesaplaması\n",
    "malatya_centrality = calculate_malatya_centrality(graph)\n",
    "\n",
    "# Eğitim verisine Malatya merkezlilik değerlerini ekleme\n",
    "train_data['malatya_centrality'] = train_data['nameOrig'].map(malatya_centrality).fillna(0)\n",
    "\n"
   ]
  },
  {
   "cell_type": "code",
   "execution_count": 6,
   "id": "47c2af5b-5311-4e97-8cf3-71adcdf3be2f",
   "metadata": {},
   "outputs": [],
   "source": [
    "# 4. Model Eğitimi ve Performans Değerlendirme\n",
    "features = ['amount', 'oldbalanceOrg', 'newbalanceOrig', 'oldbalanceDest', 'newbalanceDest', 'malatya_centrality']\n",
    "X_train = train_data[features]\n",
    "y_train = train_data['isFraud']\n",
    "\n",
    "# Test verisi hazırlanırken bellek tüketimini azaltmak için 'malatya_centrality' değerleri sıfır kabul ediliyor\n",
    "test_data['malatya_centrality'] = 0\n",
    "X_test = test_data[features]\n",
    "y_test = test_data['isFraud']\n",
    "\n",
    "# Model eğitimi\n",
    "model = RandomForestClassifier(random_state=42, n_jobs=-1)\n",
    "model.fit(X_train, y_train)\n",
    "\n",
    "# Test seti üzerinde tahmin yapma\n",
    "y_pred = model.predict(X_test)\n"
   ]
  },
  {
   "cell_type": "code",
   "execution_count": 7,
   "id": "aa5a7ce5-c94c-4204-b778-53a67cc9a25e",
   "metadata": {},
   "outputs": [
    {
     "name": "stdout",
     "output_type": "stream",
     "text": [
      "Performans Metrikleri:\n",
      "Doğruluk: 0.43\n",
      "Kesinlik: 0.00\n",
      "Duyarlılık: 0.98\n",
      "F1 Skoru: 0.00\n",
      "\n",
      "Sınıflandırma Raporu:\n",
      "               precision    recall  f1-score   support\n",
      "\n",
      "           0       1.00      0.43      0.60   1270904\n",
      "           1       0.00      0.98      0.00      1620\n",
      "\n",
      "    accuracy                           0.43   1272524\n",
      "   macro avg       0.50      0.70      0.30   1272524\n",
      "weighted avg       1.00      0.43      0.60   1272524\n",
      "\n"
     ]
    }
   ],
   "source": [
    "# Performans metriklerini hesaplama\n",
    "accuracy = accuracy_score(y_test, y_pred)\n",
    "precision = precision_score(y_test, y_pred)\n",
    "recall = recall_score(y_test, y_pred)\n",
    "f1 = f1_score(y_test, y_pred)\n",
    "\n",
    "print(\"Performans Metrikleri:\")\n",
    "print(f\"Doğruluk: {accuracy:.2f}\")\n",
    "print(f\"Kesinlik: {precision:.2f}\")\n",
    "print(f\"Duyarlılık: {recall:.2f}\")\n",
    "print(f\"F1 Skoru: {f1:.2f}\")\n",
    "print(\"\\nSınıflandırma Raporu:\\n\", classification_report(y_test, y_pred))\n"
   ]
  }
 ],
 "metadata": {
  "kernelspec": {
   "display_name": "Python 3 (ipykernel)",
   "language": "python",
   "name": "python3"
  },
  "language_info": {
   "codemirror_mode": {
    "name": "ipython",
    "version": 3
   },
   "file_extension": ".py",
   "mimetype": "text/x-python",
   "name": "python",
   "nbconvert_exporter": "python",
   "pygments_lexer": "ipython3",
   "version": "3.12.4"
  }
 },
 "nbformat": 4,
 "nbformat_minor": 5
}
